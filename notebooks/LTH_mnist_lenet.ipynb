{
 "cells": [
  {
   "cell_type": "code",
   "execution_count": 1,
   "metadata": {},
   "outputs": [
    {
     "name": "stdout",
     "output_type": "stream",
     "text": [
      "found gpu: True\n"
     ]
    }
   ],
   "source": [
    "%load_ext autoreload\n",
    "%autoreload 2\n",
    "\n",
    "import torch\n",
    "import numpy as np\n",
    "from src import utils, load_data\n",
    "from src.models.lenet import LeNet_mnist\n",
    "from src.models import lth\n",
    "from tqdm.notebook import tqdm\n",
    "import torch.nn as nn\n",
    "import matplotlib.pyplot as plt\n",
    "\n",
    "print(f\"found gpu: {torch.cuda.is_available()}\")\n",
    "device = torch.device(\"cuda\" if torch.cuda.is_available() else \"cpu\")"
   ]
  },
  {
   "cell_type": "code",
   "execution_count": 2,
   "metadata": {},
   "outputs": [],
   "source": [
    "dataset = load_data.mnist({\"batch_size\": 512})"
   ]
  },
  {
   "cell_type": "code",
   "execution_count": 3,
   "metadata": {},
   "outputs": [
    {
     "name": "stdout",
     "output_type": "stream",
     "text": [
      "starting prune iteration 0\n"
     ]
    },
    {
     "data": {
      "application/vnd.jupyter.widget-view+json": {
       "model_id": "f56f704755834309a869382f56075de3",
       "version_major": 2,
       "version_minor": 0
      },
      "text/plain": [
       "HBox(children=(FloatProgress(value=0.0, max=30.0), HTML(value='')))"
      ]
     },
     "metadata": {},
     "output_type": "display_data"
    },
    {
     "name": "stdout",
     "output_type": "stream",
     "text": [
      "early stopping triggered at epoch 6\n",
      "\n",
      "0. perc_left: 1.0, test_acc 0.9495\n",
      "starting prune iteration 1\n"
     ]
    },
    {
     "data": {
      "application/vnd.jupyter.widget-view+json": {
       "model_id": "0698ef1da23948b7ae3cdb0632ea3971",
       "version_major": 2,
       "version_minor": 0
      },
      "text/plain": [
       "HBox(children=(FloatProgress(value=0.0, max=30.0), HTML(value='')))"
      ]
     },
     "metadata": {},
     "output_type": "display_data"
    },
    {
     "name": "stdout",
     "output_type": "stream",
     "text": [
      "early stopping triggered at epoch 7\n",
      "\n",
      "1. perc_left: 0.8, test_acc 0.9483\n",
      "starting prune iteration 2\n"
     ]
    },
    {
     "data": {
      "application/vnd.jupyter.widget-view+json": {
       "model_id": "d156f808cedf4fa78c8aea0b3adb0918",
       "version_major": 2,
       "version_minor": 0
      },
      "text/plain": [
       "HBox(children=(FloatProgress(value=0.0, max=30.0), HTML(value='')))"
      ]
     },
     "metadata": {},
     "output_type": "display_data"
    },
    {
     "name": "stdout",
     "output_type": "stream",
     "text": [
      "early stopping triggered at epoch 6\n",
      "\n",
      "2. perc_left: 0.6400000000000001, test_acc 0.9484\n",
      "starting prune iteration 3\n"
     ]
    },
    {
     "data": {
      "application/vnd.jupyter.widget-view+json": {
       "model_id": "abc010e5d17b4592abf48b053014079e",
       "version_major": 2,
       "version_minor": 0
      },
      "text/plain": [
       "HBox(children=(FloatProgress(value=0.0, max=30.0), HTML(value='')))"
      ]
     },
     "metadata": {},
     "output_type": "display_data"
    },
    {
     "name": "stdout",
     "output_type": "stream",
     "text": [
      "early stopping triggered at epoch 7\n",
      "\n",
      "3. perc_left: 0.5120000000000001, test_acc 0.9508\n",
      "starting prune iteration 4\n"
     ]
    },
    {
     "data": {
      "application/vnd.jupyter.widget-view+json": {
       "model_id": "5dd3ecc7e5e54eeba5614e649e757d7d",
       "version_major": 2,
       "version_minor": 0
      },
      "text/plain": [
       "HBox(children=(FloatProgress(value=0.0, max=30.0), HTML(value='')))"
      ]
     },
     "metadata": {},
     "output_type": "display_data"
    },
    {
     "name": "stdout",
     "output_type": "stream",
     "text": [
      "early stopping triggered at epoch 7\n",
      "\n",
      "4. perc_left: 0.4096000000000001, test_acc 0.9495\n",
      "starting prune iteration 5\n"
     ]
    },
    {
     "data": {
      "application/vnd.jupyter.widget-view+json": {
       "model_id": "d5a23d998b134d6598c0cb1a8003c5e0",
       "version_major": 2,
       "version_minor": 0
      },
      "text/plain": [
       "HBox(children=(FloatProgress(value=0.0, max=30.0), HTML(value='')))"
      ]
     },
     "metadata": {},
     "output_type": "display_data"
    },
    {
     "name": "stdout",
     "output_type": "stream",
     "text": [
      "early stopping triggered at epoch 9\n",
      "\n",
      "5. perc_left: 0.3276800000000001, test_acc 0.9512\n",
      "starting prune iteration 6\n"
     ]
    },
    {
     "data": {
      "application/vnd.jupyter.widget-view+json": {
       "model_id": "e531468041964fdf829747f32019c19d",
       "version_major": 2,
       "version_minor": 0
      },
      "text/plain": [
       "HBox(children=(FloatProgress(value=0.0, max=30.0), HTML(value='')))"
      ]
     },
     "metadata": {},
     "output_type": "display_data"
    },
    {
     "name": "stdout",
     "output_type": "stream",
     "text": [
      "early stopping triggered at epoch 5\n",
      "\n",
      "6. perc_left: 0.26214400000000015, test_acc 0.9478\n",
      "starting prune iteration 7\n"
     ]
    },
    {
     "data": {
      "application/vnd.jupyter.widget-view+json": {
       "model_id": "84f8ed7dd766424db26e27fa89fbbd18",
       "version_major": 2,
       "version_minor": 0
      },
      "text/plain": [
       "HBox(children=(FloatProgress(value=0.0, max=30.0), HTML(value='')))"
      ]
     },
     "metadata": {},
     "output_type": "display_data"
    },
    {
     "name": "stdout",
     "output_type": "stream",
     "text": [
      "early stopping triggered at epoch 8\n",
      "\n",
      "7. perc_left: 0.2097152000000001, test_acc 0.95\n",
      "starting prune iteration 8\n"
     ]
    },
    {
     "data": {
      "application/vnd.jupyter.widget-view+json": {
       "model_id": "101411d54fbf4181bb55acc79cc84d7c",
       "version_major": 2,
       "version_minor": 0
      },
      "text/plain": [
       "HBox(children=(FloatProgress(value=0.0, max=30.0), HTML(value='')))"
      ]
     },
     "metadata": {},
     "output_type": "display_data"
    },
    {
     "name": "stdout",
     "output_type": "stream",
     "text": [
      "early stopping triggered at epoch 10\n",
      "\n",
      "8. perc_left: 0.16777216000000006, test_acc 0.9517\n",
      "starting prune iteration 9\n"
     ]
    },
    {
     "data": {
      "application/vnd.jupyter.widget-view+json": {
       "model_id": "8813003cae354bada97ff1a418ce7598",
       "version_major": 2,
       "version_minor": 0
      },
      "text/plain": [
       "HBox(children=(FloatProgress(value=0.0, max=30.0), HTML(value='')))"
      ]
     },
     "metadata": {},
     "output_type": "display_data"
    },
    {
     "name": "stdout",
     "output_type": "stream",
     "text": [
      "early stopping triggered at epoch 10\n",
      "\n",
      "9. perc_left: 0.1342177280000001, test_acc 0.9519\n",
      "starting prune iteration 10\n"
     ]
    },
    {
     "data": {
      "application/vnd.jupyter.widget-view+json": {
       "model_id": "af084319f7d5460a9ef72f6f7450af60",
       "version_major": 2,
       "version_minor": 0
      },
      "text/plain": [
       "HBox(children=(FloatProgress(value=0.0, max=30.0), HTML(value='')))"
      ]
     },
     "metadata": {},
     "output_type": "display_data"
    },
    {
     "name": "stdout",
     "output_type": "stream",
     "text": [
      "early stopping triggered at epoch 4\n",
      "\n",
      "10. perc_left: 0.10737418240000007, test_acc 0.947\n",
      "starting prune iteration 11\n"
     ]
    },
    {
     "data": {
      "application/vnd.jupyter.widget-view+json": {
       "model_id": "22098f5a0bb644abbd1d653c2fb4ee2c",
       "version_major": 2,
       "version_minor": 0
      },
      "text/plain": [
       "HBox(children=(FloatProgress(value=0.0, max=30.0), HTML(value='')))"
      ]
     },
     "metadata": {},
     "output_type": "display_data"
    },
    {
     "name": "stdout",
     "output_type": "stream",
     "text": [
      "early stopping triggered at epoch 8\n",
      "\n",
      "11. perc_left: 0.08589934592000004, test_acc 0.9509\n",
      "starting prune iteration 12\n"
     ]
    },
    {
     "data": {
      "application/vnd.jupyter.widget-view+json": {
       "model_id": "8d655cfa7ce343a0a84ba46065afeaf5",
       "version_major": 2,
       "version_minor": 0
      },
      "text/plain": [
       "HBox(children=(FloatProgress(value=0.0, max=30.0), HTML(value='')))"
      ]
     },
     "metadata": {},
     "output_type": "display_data"
    },
    {
     "name": "stdout",
     "output_type": "stream",
     "text": [
      "early stopping triggered at epoch 7\n",
      "\n",
      "12. perc_left: 0.06871947673599998, test_acc 0.9513\n",
      "starting prune iteration 13\n"
     ]
    },
    {
     "data": {
      "application/vnd.jupyter.widget-view+json": {
       "model_id": "c74ae7c3714f42c1b8e1e6d4645cf55c",
       "version_major": 2,
       "version_minor": 0
      },
      "text/plain": [
       "HBox(children=(FloatProgress(value=0.0, max=30.0), HTML(value='')))"
      ]
     },
     "metadata": {},
     "output_type": "display_data"
    },
    {
     "name": "stdout",
     "output_type": "stream",
     "text": [
      "early stopping triggered at epoch 12\n",
      "\n",
      "13. perc_left: 0.05497558138879999, test_acc 0.9518\n",
      "starting prune iteration 14\n"
     ]
    },
    {
     "data": {
      "application/vnd.jupyter.widget-view+json": {
       "model_id": "5322a736cc674b1b8df337221f76d0ba",
       "version_major": 2,
       "version_minor": 0
      },
      "text/plain": [
       "HBox(children=(FloatProgress(value=0.0, max=30.0), HTML(value='')))"
      ]
     },
     "metadata": {},
     "output_type": "display_data"
    },
    {
     "name": "stdout",
     "output_type": "stream",
     "text": [
      "early stopping triggered at epoch 5\n",
      "\n",
      "14. perc_left: 0.043980465111040035, test_acc 0.9507\n",
      "starting prune iteration 15\n"
     ]
    },
    {
     "data": {
      "application/vnd.jupyter.widget-view+json": {
       "model_id": "94c396eb2dd24402803524be729d7a85",
       "version_major": 2,
       "version_minor": 0
      },
      "text/plain": [
       "HBox(children=(FloatProgress(value=0.0, max=30.0), HTML(value='')))"
      ]
     },
     "metadata": {},
     "output_type": "display_data"
    },
    {
     "name": "stdout",
     "output_type": "stream",
     "text": [
      "early stopping triggered at epoch 7\n",
      "\n",
      "15. perc_left: 0.03518437208883207, test_acc 0.9492\n",
      "starting prune iteration 16\n"
     ]
    },
    {
     "data": {
      "application/vnd.jupyter.widget-view+json": {
       "model_id": "0fadd22912b042bbaded5e03f8365c6b",
       "version_major": 2,
       "version_minor": 0
      },
      "text/plain": [
       "HBox(children=(FloatProgress(value=0.0, max=30.0), HTML(value='')))"
      ]
     },
     "metadata": {},
     "output_type": "display_data"
    },
    {
     "name": "stdout",
     "output_type": "stream",
     "text": [
      "early stopping triggered at epoch 7\n",
      "\n",
      "16. perc_left: 0.028147497671065613, test_acc 0.9488\n",
      "starting prune iteration 17\n"
     ]
    },
    {
     "data": {
      "application/vnd.jupyter.widget-view+json": {
       "model_id": "3768d64505bb439ba7865596080236ea",
       "version_major": 2,
       "version_minor": 0
      },
      "text/plain": [
       "HBox(children=(FloatProgress(value=0.0, max=30.0), HTML(value='')))"
      ]
     },
     "metadata": {},
     "output_type": "display_data"
    },
    {
     "name": "stdout",
     "output_type": "stream",
     "text": [
      "early stopping triggered at epoch 8\n",
      "\n",
      "17. perc_left: 0.022517998136852513, test_acc 0.9511\n",
      "starting prune iteration 18\n"
     ]
    },
    {
     "data": {
      "application/vnd.jupyter.widget-view+json": {
       "model_id": "81f446200c294b72898e0ccb5a3803e1",
       "version_major": 2,
       "version_minor": 0
      },
      "text/plain": [
       "HBox(children=(FloatProgress(value=0.0, max=30.0), HTML(value='')))"
      ]
     },
     "metadata": {},
     "output_type": "display_data"
    },
    {
     "name": "stdout",
     "output_type": "stream",
     "text": [
      "early stopping triggered at epoch 6\n",
      "\n",
      "18. perc_left: 0.018014398509482055, test_acc 0.9492\n",
      "starting prune iteration 19\n"
     ]
    },
    {
     "data": {
      "application/vnd.jupyter.widget-view+json": {
       "model_id": "72fe317023ca409c9bb66f59dc32e3ad",
       "version_major": 2,
       "version_minor": 0
      },
      "text/plain": [
       "HBox(children=(FloatProgress(value=0.0, max=30.0), HTML(value='')))"
      ]
     },
     "metadata": {},
     "output_type": "display_data"
    },
    {
     "name": "stdout",
     "output_type": "stream",
     "text": [
      "early stopping triggered at epoch 7\n",
      "\n",
      "19. perc_left: 0.014411518807585622, test_acc 0.9509\n",
      "[{'prune_iter': 0, 'val_accs': [0.94, 0.9580833333333333, 0.9606666666666667, 0.9670833333333333, 0.9716666666666667, 0.9736666666666667, 0.973], 'test_acc': 0.9495, 'prune_rate': 0.0, 'perc_left': 1.0}, {'prune_iter': 1, 'val_accs': [0.93825, 0.9571666666666667, 0.965, 0.9665, 0.97, 0.9731666666666666, 0.97425, 0.9734166666666667], 'test_acc': 0.9483, 'prune_rate': 0.19999999999999996, 'perc_left': 0.8}, {'prune_iter': 2, 'val_accs': [0.9404166666666667, 0.9581666666666667, 0.9620833333333333, 0.9690833333333333, 0.9703333333333334, 0.9718333333333333, 0.9714166666666667], 'test_acc': 0.9484, 'prune_rate': 0.3599999999999999, 'perc_left': 0.6400000000000001}, {'prune_iter': 3, 'val_accs': [0.9365833333333333, 0.9560833333333333, 0.9659166666666666, 0.9665, 0.9711666666666666, 0.9720833333333333, 0.975, 0.9740833333333333], 'test_acc': 0.9508, 'prune_rate': 0.4879999999999999, 'perc_left': 0.5120000000000001}, {'prune_iter': 4, 'val_accs': [0.93925, 0.9570833333333333, 0.9631666666666666, 0.9693333333333334, 0.97025, 0.9720833333333333, 0.973, 0.9725833333333334], 'test_acc': 0.9495, 'prune_rate': 0.5903999999999999, 'perc_left': 0.4096000000000001}, {'prune_iter': 5, 'val_accs': [0.9395, 0.9543333333333334, 0.9630833333333333, 0.9683333333333334, 0.9708333333333333, 0.9715833333333334, 0.9721666666666666, 0.9753333333333334, 0.976, 0.9756666666666667], 'test_acc': 0.9512, 'prune_rate': 0.6723199999999999, 'perc_left': 0.3276800000000001}, {'prune_iter': 6, 'val_accs': [0.9359166666666666, 0.9581666666666667, 0.9635, 0.9696666666666667, 0.9715, 0.9693333333333334], 'test_acc': 0.9478, 'prune_rate': 0.7378559999999998, 'perc_left': 0.26214400000000015}, {'prune_iter': 7, 'val_accs': [0.9400833333333334, 0.9564166666666667, 0.9651666666666666, 0.96675, 0.9695833333333334, 0.9704166666666667, 0.9738333333333333, 0.9754166666666667, 0.9748333333333333], 'test_acc': 0.95, 'prune_rate': 0.7902847999999999, 'perc_left': 0.2097152000000001}, {'prune_iter': 8, 'val_accs': [0.94225, 0.9565, 0.9630833333333333, 0.96775, 0.96925, 0.9725, 0.9726666666666667, 0.97425, 0.9749166666666667, 0.9755833333333334, 0.9751666666666666], 'test_acc': 0.9517, 'prune_rate': 0.8322278399999999, 'perc_left': 0.16777216000000006}, {'prune_iter': 9, 'val_accs': [0.93925, 0.9565, 0.965, 0.9676666666666667, 0.9711666666666666, 0.9716666666666667, 0.9721666666666666, 0.9735, 0.9744166666666667, 0.9750833333333333, 0.9744166666666667], 'test_acc': 0.9519, 'prune_rate': 0.8657822719999999, 'perc_left': 0.1342177280000001}, {'prune_iter': 10, 'val_accs': [0.9386666666666666, 0.9561666666666667, 0.96175, 0.969, 0.9689166666666666], 'test_acc': 0.947, 'prune_rate': 0.8926258175999999, 'perc_left': 0.10737418240000007}, {'prune_iter': 11, 'val_accs': [0.9370833333333334, 0.958, 0.96175, 0.9655, 0.9690833333333333, 0.971, 0.9735833333333334, 0.97525, 0.9739166666666667], 'test_acc': 0.9509, 'prune_rate': 0.91410065408, 'perc_left': 0.08589934592000004}, {'prune_iter': 12, 'val_accs': [0.9385833333333333, 0.9561666666666667, 0.9638333333333333, 0.9698333333333333, 0.971, 0.9730833333333333, 0.9735833333333334, 0.9728333333333333], 'test_acc': 0.9513, 'prune_rate': 0.931280523264, 'perc_left': 0.06871947673599998}, {'prune_iter': 13, 'val_accs': [0.9348333333333333, 0.9555, 0.9615833333333333, 0.9639166666666666, 0.97, 0.9726666666666667, 0.97375, 0.9745833333333334, 0.97475, 0.97475, 0.9759166666666667, 0.9769166666666667, 0.9766666666666667], 'test_acc': 0.9518, 'prune_rate': 0.9450244186112, 'perc_left': 0.05497558138879999}, {'prune_iter': 14, 'val_accs': [0.93825, 0.9573333333333334, 0.9635, 0.9684166666666667, 0.9726666666666667, 0.9711666666666666], 'test_acc': 0.9507, 'prune_rate': 0.95601953488896, 'perc_left': 0.043980465111040035}, {'prune_iter': 15, 'val_accs': [0.937, 0.9516666666666667, 0.966, 0.96775, 0.9700833333333333, 0.9704166666666667, 0.9729166666666667, 0.9723333333333334], 'test_acc': 0.9492, 'prune_rate': 0.9648156279111679, 'perc_left': 0.03518437208883207}, {'prune_iter': 16, 'val_accs': [0.93875, 0.9533333333333334, 0.96375, 0.968, 0.97175, 0.9724166666666667, 0.97275, 0.9698333333333333], 'test_acc': 0.9488, 'prune_rate': 0.9718525023289344, 'perc_left': 0.028147497671065613}, {'prune_iter': 17, 'val_accs': [0.93725, 0.9540833333333333, 0.9645833333333333, 0.9700833333333333, 0.9721666666666666, 0.9726666666666667, 0.974, 0.97475, 0.9743333333333334], 'test_acc': 0.9511, 'prune_rate': 0.9774820018631475, 'perc_left': 0.022517998136852513}, {'prune_iter': 18, 'val_accs': [0.9384166666666667, 0.9573333333333334, 0.9646666666666667, 0.9685833333333334, 0.9704166666666667, 0.97275, 0.9716666666666667], 'test_acc': 0.9492, 'prune_rate': 0.981985601490518, 'perc_left': 0.018014398509482055}, {'prune_iter': 19, 'val_accs': [0.94, 0.9568333333333333, 0.9650833333333333, 0.9666666666666667, 0.97025, 0.9728333333333333, 0.9738333333333333, 0.973], 'test_acc': 0.9509, 'prune_rate': 0.9855884811924144, 'perc_left': 0.014411518807585622}]\n"
     ]
    }
   ],
   "source": [
    "model = LeNet_mnist().to(device)\n",
    "\n",
    "expr_params = {\n",
    "    \"prune_rate\": .2,\n",
    "    \"pruning_iterations\": 20,\n",
    "    \"prune_local\": True,\n",
    "    \"expr_id\": utils.new_expr_id(\"mnist lenet lth\"),\n",
    "    \"model_train_params\": {\n",
    "        \"optimizer\": (\"adam\", {\"weight_decay\": 1e-4, \"lr\": 0.001}),\n",
    "        \"loss_func\": nn.CrossEntropyLoss(),\n",
    "        \"training_iterations\": 30,\n",
    "        \"early_stopping\": True,\n",
    "    }\n",
    "}\n",
    "\n",
    "mask, logs = lth.run(model, dataset, expr_params)\n",
    "print(logs)"
   ]
  },
  {
   "cell_type": "code",
   "execution_count": 8,
   "metadata": {},
   "outputs": [
    {
     "data": {
      "image/png": "[encoded data removed]",
      "text/plain": [
       "<Figure size 432x288 with 1 Axes>"
      ]
     },
     "metadata": {
      "needs_background": "light"
     },
     "output_type": "display_data"
    }
   ],
   "source": [
    "plt.clf()\n",
    "accs = [log[\"test_acc\"] for log in logs]\n",
    "plt.plot(accs)\n",
    "plt.xlabel(\"prune_iter\")\n",
    "plt.ylabel(\"test_acc\")\n",
    "plt.title(\"acc over pruning iterations\")\n",
    "plt.show()"
   ]
  },
  {
   "cell_type": "code",
   "execution_count": 2,
   "metadata": {},
   "outputs": [
    {
     "ename": "AttributeError",
     "evalue": "module 'src.load_data' has no attribute 'cfar10'",
     "output_type": "error",
     "traceback": [
      "\u001b[0;31m---------------------------------------------------------------------------\u001b[0m",
      "\u001b[0;31mAttributeError\u001b[0m                            Traceback (most recent call last)",
      "\u001b[0;32m<ipython-input-2-68336f528624>\u001b[0m in \u001b[0;36m<module>\u001b[0;34m\u001b[0m\n\u001b[0;32m----> 1\u001b[0;31m \u001b[0mdataset\u001b[0m \u001b[0;34m=\u001b[0m \u001b[0mload_data\u001b[0m\u001b[0;34m.\u001b[0m\u001b[0mcfar10\u001b[0m\u001b[0;34m(\u001b[0m\u001b[0;34m{\u001b[0m\u001b[0;34m\"batch_size\"\u001b[0m\u001b[0;34m:\u001b[0m \u001b[0;36m400\u001b[0m\u001b[0;34m}\u001b[0m\u001b[0;34m)\u001b[0m\u001b[0;34m\u001b[0m\u001b[0;34m\u001b[0m\u001b[0m\n\u001b[0m\u001b[1;32m      2\u001b[0m \u001b[0mtrain_data\u001b[0m\u001b[0;34m,\u001b[0m \u001b[0mval_data\u001b[0m\u001b[0;34m,\u001b[0m \u001b[0mtest_data\u001b[0m \u001b[0;34m=\u001b[0m \u001b[0mdataset\u001b[0m\u001b[0;34m\u001b[0m\u001b[0;34m\u001b[0m\u001b[0m\n\u001b[1;32m      3\u001b[0m \u001b[0mprint\u001b[0m\u001b[0;34m(\u001b[0m\u001b[0mtest_data\u001b[0m\u001b[0;34m.\u001b[0m\u001b[0mdataset\u001b[0m\u001b[0;34m)\u001b[0m\u001b[0;34m\u001b[0m\u001b[0;34m\u001b[0m\u001b[0m\n\u001b[1;32m      4\u001b[0m \u001b[0mdatapoint\u001b[0m \u001b[0;34m=\u001b[0m \u001b[0mtest_data\u001b[0m\u001b[0;34m.\u001b[0m\u001b[0mdataset\u001b[0m\u001b[0;34m[\u001b[0m\u001b[0;36m0\u001b[0m\u001b[0;34m]\u001b[0m\u001b[0;34m\u001b[0m\u001b[0;34m\u001b[0m\u001b[0m\n\u001b[1;32m      5\u001b[0m \u001b[0mX\u001b[0m\u001b[0;34m,\u001b[0m \u001b[0my\u001b[0m \u001b[0;34m=\u001b[0m \u001b[0mdatapoint\u001b[0m\u001b[0;34m\u001b[0m\u001b[0;34m\u001b[0m\u001b[0m\n",
      "\u001b[0;31mAttributeError\u001b[0m: module 'src.load_data' has no attribute 'cfar10'"
     ]
    }
   ],
   "source": [
    "dataset = load_data.cfar10({\"batch_size\": 400})\n",
    "train_data, val_data, test_data = dataset\n",
    "print(test_data.dataset)\n",
    "datapoint = test_data.dataset[0]\n",
    "X, y = datapoint\n",
    "print(X.shape)"
   ]
  },
  {
   "cell_type": "code",
   "execution_count": 5,
   "metadata": {},
   "outputs": [],
   "source": [
    "dataset = load_data.mnist({\"batch_size\": 400})"
   ]
  },
  {
   "cell_type": "code",
   "execution_count": 7,
   "metadata": {},
   "outputs": [
    {
     "ename": "TypeError",
     "evalue": "super(type, obj): obj must be an instance or subtype of type",
     "output_type": "error",
     "traceback": [
      "\u001b[0;31m---------------------------------------------------------------------------\u001b[0m",
      "\u001b[0;31mTypeError\u001b[0m                                 Traceback (most recent call last)",
      "\u001b[0;32m<ipython-input-7-bb41ea661283>\u001b[0m in \u001b[0;36m<module>\u001b[0;34m\u001b[0m\n\u001b[0;32m----> 1\u001b[0;31m \u001b[0mmodel\u001b[0m \u001b[0;34m=\u001b[0m \u001b[0mLeNet_mnist\u001b[0m\u001b[0;34m(\u001b[0m\u001b[0;34m)\u001b[0m\u001b[0;34m.\u001b[0m\u001b[0mto\u001b[0m\u001b[0;34m(\u001b[0m\u001b[0mdevice\u001b[0m\u001b[0;34m)\u001b[0m\u001b[0;34m\u001b[0m\u001b[0;34m\u001b[0m\u001b[0m\n\u001b[0m\u001b[1;32m      2\u001b[0m \u001b[0mmodel\u001b[0m\u001b[0;34m.\u001b[0m\u001b[0mapply\u001b[0m\u001b[0;34m(\u001b[0m\u001b[0mutils\u001b[0m\u001b[0;34m.\u001b[0m\u001b[0mweight_init\u001b[0m\u001b[0;34m)\u001b[0m\u001b[0;34m\u001b[0m\u001b[0;34m\u001b[0m\u001b[0m\n\u001b[1;32m      3\u001b[0m \u001b[0;34m\u001b[0m\u001b[0m\n\u001b[1;32m      4\u001b[0m expr_params = {\n\u001b[1;32m      5\u001b[0m     \u001b[0;34m\"prune_rate\"\u001b[0m\u001b[0;34m:\u001b[0m \u001b[0;36m.2\u001b[0m\u001b[0;34m,\u001b[0m\u001b[0;34m\u001b[0m\u001b[0;34m\u001b[0m\u001b[0m\n",
      "\u001b[0;32m/workspace/notebooks/src/models/lenet.py\u001b[0m in \u001b[0;36m__init__\u001b[0;34m(self, num_classes)\u001b[0m\n\u001b[1;32m      7\u001b[0m \u001b[0;32mclass\u001b[0m \u001b[0mLeNet_mnist\u001b[0m\u001b[0;34m(\u001b[0m\u001b[0mnn\u001b[0m\u001b[0;34m.\u001b[0m\u001b[0mModule\u001b[0m\u001b[0;34m)\u001b[0m\u001b[0;34m:\u001b[0m\u001b[0;34m\u001b[0m\u001b[0;34m\u001b[0m\u001b[0m\n\u001b[1;32m      8\u001b[0m     \u001b[0;32mdef\u001b[0m \u001b[0m__init__\u001b[0m\u001b[0;34m(\u001b[0m\u001b[0mself\u001b[0m\u001b[0;34m,\u001b[0m \u001b[0mnum_classes\u001b[0m\u001b[0;34m=\u001b[0m\u001b[0;36m10\u001b[0m\u001b[0;34m)\u001b[0m\u001b[0;34m:\u001b[0m\u001b[0;34m\u001b[0m\u001b[0;34m\u001b[0m\u001b[0m\n\u001b[0;32m----> 9\u001b[0;31m         \u001b[0msuper\u001b[0m\u001b[0;34m(\u001b[0m\u001b[0mLeNet_mnist\u001b[0m\u001b[0;34m,\u001b[0m \u001b[0mself\u001b[0m\u001b[0;34m)\u001b[0m\u001b[0;34m.\u001b[0m\u001b[0m__init__\u001b[0m\u001b[0;34m(\u001b[0m\u001b[0;34m)\u001b[0m\u001b[0;34m\u001b[0m\u001b[0;34m\u001b[0m\u001b[0m\n\u001b[0m\u001b[1;32m     10\u001b[0m         \u001b[0mself\u001b[0m\u001b[0;34m.\u001b[0m\u001b[0mlayer1\u001b[0m \u001b[0;34m=\u001b[0m \u001b[0mnn\u001b[0m\u001b[0;34m.\u001b[0m\u001b[0mLinear\u001b[0m\u001b[0;34m(\u001b[0m\u001b[0;36m784\u001b[0m\u001b[0;34m,\u001b[0m \u001b[0;36m300\u001b[0m\u001b[0;34m)\u001b[0m\u001b[0;34m\u001b[0m\u001b[0;34m\u001b[0m\u001b[0m\n\u001b[1;32m     11\u001b[0m         \u001b[0mself\u001b[0m\u001b[0;34m.\u001b[0m\u001b[0mrelu1\u001b[0m \u001b[0;34m=\u001b[0m \u001b[0mnn\u001b[0m\u001b[0;34m.\u001b[0m\u001b[0mReLU\u001b[0m\u001b[0;34m(\u001b[0m\u001b[0minplace\u001b[0m\u001b[0;34m=\u001b[0m\u001b[0;32mTrue\u001b[0m\u001b[0;34m)\u001b[0m\u001b[0;34m\u001b[0m\u001b[0;34m\u001b[0m\u001b[0m\n",
      "\u001b[0;31mTypeError\u001b[0m: super(type, obj): obj must be an instance or subtype of type"
     ]
    }
   ],
   "source": [
    "model = LeNet_mnist().to(device)\n",
    "model.apply(utils.weight_init)\n",
    "\n",
    "expr_params = {\n",
    "    \"prune_rate\": .2,\n",
    "    \"pruning_iterations\": 40,\n",
    "    \"model_train_params\": {\n",
    "        \"optimizer\": (\"adam\", (1e-4, 0.001)),\n",
    "        \"loss_func\": nn.CrossEntropyLoss(),\n",
    "        \"training_iterations\": 30,\n",
    "        \"early_stopping\": True,\n",
    "    }\n",
    "}\n",
    "\n",
    "mask, logs = lth.run(model, dataset, expr_params)\n",
    "print(logs)"
   ]
  },
  {
   "cell_type": "code",
   "execution_count": 42,
   "metadata": {},
   "outputs": [
    {
     "data": {
      "image/png": "[encoded data removed]",
      "text/plain": [
       "<Figure size 432x288 with 1 Axes>"
      ]
     },
     "metadata": {
      "needs_background": "light"
     },
     "output_type": "display_data"
    }
   ],
   "source": [
    "plt.clf()\n",
    "for log in logs:\n",
    "    accs = log[\"val_accs\"]\n",
    "    pr = log[\"prune_rate\"]\n",
    "    plt.plot(accs, label=f\"{pr}: {max(accs)}\")\n",
    "plt.legend()\n",
    "plt.show()"
   ]
  },
  {
   "cell_type": "code",
   "execution_count": 36,
   "metadata": {},
   "outputs": [],
   "source": [
    "print(next(model.named_parameters())[1])\n",
    "# print(initial_weights[0][1])"
   ]
  },
  {
   "cell_type": "code",
   "execution_count": 28,
   "metadata": {},
   "outputs": [],
   "source": [
    "mask = lth.build_mask(model)"
   ]
  },
  {
   "cell_type": "code",
   "execution_count": 53,
   "metadata": {},
   "outputs": [
    {
     "name": "stdout",
     "output_type": "stream",
     "text": [
      "dict_keys(['features.0.weight', 'features.2.weight', 'classifier.0.weight', 'classifier.2.weight', 'classifier.4.weight'])\n",
      "[(tensor(191.), 576), (tensor(4948.), 36864), (tensor(146025.), 3211264), (tensor(13697.), 65536), (tensor(978.), 2560)]\n"
     ]
    }
   ],
   "source": [
    "lth.update_mask(model, mask, .95)\n",
    "lth.prune_model(model, mask)\n",
    "print(mask.keys())\n",
    "weights = [weight for name, weight in mask.items() if \"weight\" in name]\n",
    "print([(weight.sum().to(torch.float32), np.prod(weight.shape)) for weight in weights])"
   ]
  },
  {
   "cell_type": "code",
   "execution_count": 31,
   "metadata": {},
   "outputs": [
    {
     "name": "stdout",
     "output_type": "stream",
     "text": [
      "torch.Size([64, 1, 3, 3])\n",
      "torch.Size([64, 1, 3, 3])\n"
     ]
    }
   ],
   "source": [
    "mask = lth.ModelMask(model)\n",
    "feature0 = next(model.named_parameters())\n",
    "name, weight = feature0\n",
    "print(weight.shape)\n",
    "print(mask.bit_mask[name].shape)"
   ]
  },
  {
   "cell_type": "code",
   "execution_count": 41,
   "metadata": {},
   "outputs": [
    {
     "name": "stdout",
     "output_type": "stream",
     "text": [
      "torch.Size([64, 1, 3, 3])\n",
      "torch.Size([64, 64, 3, 3])\n",
      "torch.Size([256, 12544])\n",
      "torch.Size([256, 256])\n",
      "torch.Size([10, 256])\n",
      "<class 'torch.Tensor'>\n",
      "<class 'torch.Tensor'>\n",
      "<class 'torch.Tensor'>\n",
      "<class 'torch.Tensor'>\n",
      "<class 'torch.Tensor'>\n",
      "<class 'torch.Tensor'>\n",
      "<class 'torch.Tensor'>\n",
      "<class 'torch.Tensor'>\n",
      "<class 'torch.Tensor'>\n",
      "<class 'torch.Tensor'>\n"
     ]
    }
   ],
   "source": [
    "num_weights = 0\n",
    "for name, parameter in model.named_parameters():\n",
    "    if \"weight\" in name:\n",
    "        print(parameter.shape)\n",
    "        num_weights += np.prod(parameter.shape)\n",
    "\n",
    "all_weights = np.empty(shape=num_weights, dtype=np.float32)\n",
    "i = 0\n",
    "for name, parameter in model.named_parameters():\n",
    "    if \"weight\" in name:\n",
    "        num_weights = np.prod(parameter.shape)\n",
    "        all_weights[i:i+num_weights]parameter.data().flatten().numpy().astype(np.float32)\n",
    "        cur_index += num_weights\n",
    "        \n",
    "print()"
   ]
  },
  {
   "cell_type": "code",
   "execution_count": 17,
   "metadata": {},
   "outputs": [
    {
     "name": "stdout",
     "output_type": "stream",
     "text": [
      "{'weight0': tensor([0, 0, 0, 0, 0], device='cuda:0', dtype=torch.int32), 'weight1': tensor([ 0,  0,  0,  0,  0,  0,  0,  0, 28, 29, 30, 31, 32, 33, 34, 35, 36, 37,\n",
      "        38, 39], device='cuda:0', dtype=torch.int32)}\n",
      "torch.int32\n"
     ]
    }
   ],
   "source": [
    "prune_rate = .5\n",
    "\n",
    "named_parameters = [\n",
    "    (\"weight0\", torch.arange(5, dtype=torch.int32).to(device)),\n",
    "    (\"weight1\", torch.arange(20, 40, dtype=torch.int32).to(device))\n",
    "]\n",
    "\n",
    "weight_parameters = [parameter for name, parameter in named_parameters if \"weight\" in name]\n",
    "all_weights = [parameter.flatten().cpu().numpy().astype(np.float32) for parameter in weight_parameters]\n",
    "all_weights = np.concatenate(all_weights)\n",
    "\n",
    "num_weights = len(all_weights)\n",
    "k = int(num_weights*prune_rate)\n",
    "kth_weight = np.partition(all_weights, k)[k]\n",
    "\n",
    "mask = {}\n",
    "for name, parameter in named_parameters:\n",
    "    if \"weight\" in name:\n",
    "        mask[name] = parameter*(parameter > kth_weight)\n",
    "print(mask)\n",
    "print(named_parameters[0][1].dtype)"
   ]
  },
  {
   "cell_type": "code",
   "execution_count": 59,
   "metadata": {},
   "outputs": [
    {
     "data": {
      "text/plain": [
       "array([1., 2., 3., 1., 1., 2., 1., 3., 3.], dtype=float32)"
      ]
     },
     "execution_count": 59,
     "metadata": {},
     "output_type": "execute_result"
    }
   ],
   "source": [
    "np.concatenate((np.array([1, 2, 3], dtype=np.float32), np.array([[1, 1], [2,1], [3,3]], dtype=np.float32).flatten()))"
   ]
  },
  {
   "cell_type": "code",
   "execution_count": 82,
   "metadata": {},
   "outputs": [
    {
     "name": "stdout",
     "output_type": "stream",
     "text": [
      "tensor([True, True, True, True, True], device='cuda:0') torch.bool\n"
     ]
    }
   ],
   "source": [
    "a = torch.ones_like(named_parameters[0][1], dtype=torch.bool).to(device)\n",
    "print(a, a.dtype)"
   ]
  },
  {
   "cell_type": "code",
   "execution_count": 88,
   "metadata": {},
   "outputs": [
    {
     "data": {
      "text/plain": [
       "tensor([False, False, False, False, False], device='cuda:0')"
      ]
     },
     "execution_count": 88,
     "metadata": {},
     "output_type": "execute_result"
    }
   ],
   "source": [
    "a.set_(torch.from_numpy(np.array([False, False, False, False, False])).to(device))"
   ]
  },
  {
   "cell_type": "code",
   "execution_count": 96,
   "metadata": {},
   "outputs": [
    {
     "name": "stdout",
     "output_type": "stream",
     "text": [
      "tensor([-1, -4, -3, -5, -6, -9, -7])\n"
     ]
    },
    {
     "data": {
      "text/plain": [
       "tensor(-4)"
      ]
     },
     "execution_count": 96,
     "metadata": {},
     "output_type": "execute_result"
    }
   ],
   "source": [
    "tensor = torch.abs(torch.tensor([1, 4, 3, 5, 6, 9, 7]))*-1\n",
    "values, indices = torch.topk(tensor, 3, sorted=True)\n",
    "print(tensor)\n",
    "values[-1]"
   ]
  },
  {
   "cell_type": "code",
   "execution_count": 6,
   "metadata": {},
   "outputs": [],
   "source": [
    "bigtensor = torch.ones(size=(250000000,), device=device, dtype=torch.int32)"
   ]
  },
  {
   "cell_type": "code",
   "execution_count": 7,
   "metadata": {},
   "outputs": [],
   "source": [
    "mask = (bigtensor.cpu() > 4)"
   ]
  },
  {
   "cell_type": "code",
   "execution_count": 9,
   "metadata": {},
   "outputs": [],
   "source": [
    "bigtensor = bigtensor * mask.to(\"cuda\")"
   ]
  },
  {
   "cell_type": "code",
   "execution_count": 10,
   "metadata": {},
   "outputs": [],
   "source": [
    "bigtensor = torch.abs(bigtensor)\n",
    "# bigtensor = torch.zeros(size=(250000000,), device=device, dtype=torch.int32)"
   ]
  },
  {
   "cell_type": "code",
   "execution_count": null,
   "metadata": {},
   "outputs": [],
   "source": []
  },
  {
   "cell_type": "code",
   "execution_count": 4,
   "metadata": {},
   "outputs": [
    {
     "ename": "RuntimeError",
     "evalue": "Expected all tensors to be on the same device, but found at least two devices, cuda:0 and cpu!",
     "output_type": "error",
     "traceback": [
      "\u001b[0;31m---------------------------------------------------------------------------\u001b[0m",
      "\u001b[0;31mRuntimeError\u001b[0m                              Traceback (most recent call last)",
      "\u001b[0;32m<ipython-input-4-95c8edca742f>\u001b[0m in \u001b[0;36m<module>\u001b[0;34m\u001b[0m\n\u001b[0;32m----> 1\u001b[0;31m \u001b[0mbigtensor\u001b[0m \u001b[0;34m=\u001b[0m \u001b[0mbigtensor\u001b[0m \u001b[0;34m*\u001b[0m \u001b[0mmask\u001b[0m\u001b[0;34m\u001b[0m\u001b[0;34m\u001b[0m\u001b[0m\n\u001b[0m",
      "\u001b[0;31mRuntimeError\u001b[0m: Expected all tensors to be on the same device, but found at least two devices, cuda:0 and cpu!"
     ]
    }
   ],
   "source": []
  },
  {
   "cell_type": "code",
   "execution_count": 62,
   "metadata": {},
   "outputs": [],
   "source": [
    "a = torch.tensor([2., 3., 4.], requires_grad=True)\n",
    "b = torch.prod(a)\n",
    "d = b+2\n",
    "# a.retain_grad()\n",
    "b.retain_grad()\n",
    "# c.retain_grad()\n",
    "d.retain_grad()\n",
    "d.backward(torch.tensor([5]))\n",
    "\n",
    "# a.backward()"
   ]
  },
  {
   "cell_type": "code",
   "execution_count": 63,
   "metadata": {},
   "outputs": [
    {
     "name": "stdout",
     "output_type": "stream",
     "text": [
      "[tensor([60., 40., 30.]), tensor(5.)]\n"
     ]
    }
   ],
   "source": [
    "print([i.grad for i in [a, b]])"
   ]
  },
  {
   "cell_type": "code",
   "execution_count": null,
   "metadata": {},
   "outputs": [],
   "source": []
  }
 ],
 "metadata": {
  "kernelspec": {
   "display_name": "Python 3",
   "language": "python",
   "name": "python3"
  },
  "language_info": {
   "codemirror_mode": {
    "name": "ipython",
    "version": 3
   },
   "file_extension": ".py",
   "mimetype": "text/x-python",
   "name": "python",
   "nbconvert_exporter": "python",
   "pygments_lexer": "ipython3",
   "version": "3.7.7"
  }
 },
 "nbformat": 4,
 "nbformat_minor": 4
}
