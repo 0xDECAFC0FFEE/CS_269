{
 "cells": [
  {
   "cell_type": "code",
   "execution_count": 9,
   "metadata": {},
   "outputs": [
    {
     "name": "stdout",
     "output_type": "stream",
     "text": [
      "The autoreload extension is already loaded. To reload it, use:\n",
      "  %reload_ext autoreload\n",
      "found gpu: True\n"
     ]
    }
   ],
   "source": [
    "%load_ext autoreload\n",
    "%autoreload 2\n",
    "\n",
    "import torch\n",
    "import numpy as np\n",
    "from src import utils, load_data\n",
    "from src.models import lth\n",
    "from tqdm.notebook import tqdm\n",
    "import torch.nn as nn\n",
    "import matplotlib.pyplot as plt\n",
    "import torchvision\n",
    "from torch.utils.tensorboard import SummaryWriter\n",
    "\n",
    "print(f\"found gpu: {torch.cuda.is_available()}\")\n",
    "device = torch.device(\"cuda\" if torch.cuda.is_available() else \"cpu\")"
   ]
  },
  {
   "cell_type": "code",
   "execution_count": 10,
   "metadata": {},
   "outputs": [
    {
     "name": "stdout",
     "output_type": "stream",
     "text": [
      "Files already downloaded and verified\n",
      "Files already downloaded and verified\n"
     ]
    }
   ],
   "source": [
    "dataset = load_data.cifar10({\"batch_size\": 60})\n",
    "\n",
    "train, val, test = dataset\n",
    "images, labels = next(iter(train))\n",
    "\n",
    "grid = torchvision.utils.make_grid(images)\n",
    "with SummaryWriter(f'tensorboard/cifar10') as writer:\n",
    "    writer.add_image('processed', grid, 1)\n",
    "    writer.flush()"
   ]
  },
  {
   "cell_type": "code",
   "execution_count": 11,
   "metadata": {
    "tags": []
   },
   "outputs": [
    {
     "name": "stdout",
     "output_type": "stream",
     "text": [
      "starting lth run expr 2020-11-05 | 08:02:07 cifar10 vgg lth zv6hH\n",
      "starting prune iteration 0\n"
     ]
    },
    {
     "data": {
      "application/vnd.jupyter.widget-view+json": {
       "model_id": "45086773fe9c420eb290e878d76edd9e",
       "version_major": 2,
       "version_minor": 0
      },
      "text/plain": [
       "HBox(children=(FloatProgress(value=0.0, max=30.0), HTML(value='')))"
      ]
     },
     "metadata": {},
     "output_type": "display_data"
    },
    {
     "name": "stdout",
     "output_type": "stream",
     "text": [
      "early stopping triggered at epoch 12\n",
      "\n",
      "0. perc_left: 1.0, test_acc 0.7505\n",
      "starting prune iteration 1\n"
     ]
    },
    {
     "data": {
      "application/vnd.jupyter.widget-view+json": {
       "model_id": "ef535535a6734210b4ac4e6ff3bd2108",
       "version_major": 2,
       "version_minor": 0
      },
      "text/plain": [
       "HBox(children=(FloatProgress(value=0.0, max=30.0), HTML(value='')))"
      ]
     },
     "metadata": {},
     "output_type": "display_data"
    },
    {
     "name": "stdout",
     "output_type": "stream",
     "text": [
      "\n"
     ]
    },
    {
     "ename": "KeyboardInterrupt",
     "evalue": "",
     "output_type": "error",
     "traceback": [
      "\u001b[0;31m---------------------------------------------------------------------------\u001b[0m",
      "\u001b[0;31mKeyboardInterrupt\u001b[0m                         Traceback (most recent call last)",
      "\u001b[0;32m<ipython-input-11-f50c5a556963>\u001b[0m in \u001b[0;36m<module>\u001b[0;34m\u001b[0m\n\u001b[1;32m     48\u001b[0m \u001b[0;34m\u001b[0m\u001b[0m\n\u001b[1;32m     49\u001b[0m \u001b[0mprint\u001b[0m\u001b[0;34m(\u001b[0m\u001b[0;34mf\"starting lth run {expr_params['expr_id']}\"\u001b[0m\u001b[0;34m)\u001b[0m\u001b[0;34m\u001b[0m\u001b[0;34m\u001b[0m\u001b[0m\n\u001b[0;32m---> 50\u001b[0;31m \u001b[0mmask\u001b[0m \u001b[0;34m=\u001b[0m \u001b[0mlth\u001b[0m\u001b[0;34m.\u001b[0m\u001b[0mrun\u001b[0m\u001b[0;34m(\u001b[0m\u001b[0mdataset\u001b[0m\u001b[0;34m,\u001b[0m \u001b[0mexpr_params\u001b[0m\u001b[0;34m)\u001b[0m\u001b[0;34m\u001b[0m\u001b[0;34m\u001b[0m\u001b[0m\n\u001b[0m",
      "\u001b[0;32m/workspace/notebooks/src/models/lth.py\u001b[0m in \u001b[0;36mrun\u001b[0;34m(dataset, lottery_ticket_params)\u001b[0m\n\u001b[1;32m     53\u001b[0m             \u001b[0;34m**\u001b[0m\u001b[0mtraining_params\u001b[0m\u001b[0;34m\u001b[0m\u001b[0;34m\u001b[0m\u001b[0m\n\u001b[1;32m     54\u001b[0m         }\n\u001b[0;32m---> 55\u001b[0;31m         \u001b[0mval_accs\u001b[0m\u001b[0;34m,\u001b[0m \u001b[0mbest_mask_model\u001b[0m \u001b[0;34m=\u001b[0m \u001b[0mtrain\u001b[0m\u001b[0;34m(\u001b[0m\u001b[0mmodel\u001b[0m\u001b[0;34m,\u001b[0m \u001b[0mmask\u001b[0m\u001b[0;34m,\u001b[0m \u001b[0mtrain_data\u001b[0m\u001b[0;34m,\u001b[0m \u001b[0mval_data\u001b[0m\u001b[0;34m,\u001b[0m \u001b[0mexpr_params\u001b[0m\u001b[0;34m,\u001b[0m \u001b[0mwriter\u001b[0m\u001b[0;34m)\u001b[0m\u001b[0;34m\u001b[0m\u001b[0;34m\u001b[0m\u001b[0m\n\u001b[0m\u001b[1;32m     56\u001b[0m         \u001b[0mmodel\u001b[0m\u001b[0;34m.\u001b[0m\u001b[0mload_state_dict\u001b[0m\u001b[0;34m(\u001b[0m\u001b[0mbest_mask_model\u001b[0m\u001b[0;34m)\u001b[0m\u001b[0;34m\u001b[0m\u001b[0;34m\u001b[0m\u001b[0m\n\u001b[1;32m     57\u001b[0m         \u001b[0mmasks\u001b[0m\u001b[0;34m.\u001b[0m\u001b[0mappend\u001b[0m\u001b[0;34m(\u001b[0m\u001b[0mcopy\u001b[0m\u001b[0;34m.\u001b[0m\u001b[0mdeepcopy\u001b[0m\u001b[0;34m(\u001b[0m\u001b[0mmask\u001b[0m\u001b[0;34m)\u001b[0m\u001b[0;34m)\u001b[0m\u001b[0;34m\u001b[0m\u001b[0;34m\u001b[0m\u001b[0m\n",
      "\u001b[0;32m/workspace/notebooks/src/models/lth.py\u001b[0m in \u001b[0;36mtrain\u001b[0;34m(model, mask, train_data, val_data, expr_params, writer)\u001b[0m\n\u001b[1;32m    143\u001b[0m \u001b[0;34m\u001b[0m\u001b[0m\n\u001b[1;32m    144\u001b[0m     \u001b[0;32mfor\u001b[0m \u001b[0mepoch\u001b[0m \u001b[0;32min\u001b[0m \u001b[0mtqdm\u001b[0m\u001b[0;34m(\u001b[0m\u001b[0mrange\u001b[0m\u001b[0;34m(\u001b[0m\u001b[0mexpr_params\u001b[0m\u001b[0;34m[\u001b[0m\u001b[0;34m\"training_iterations\"\u001b[0m\u001b[0;34m]\u001b[0m\u001b[0;34m)\u001b[0m\u001b[0;34m)\u001b[0m\u001b[0;34m:\u001b[0m\u001b[0;34m\u001b[0m\u001b[0;34m\u001b[0m\u001b[0m\n\u001b[0;32m--> 145\u001b[0;31m         \u001b[0mloss\u001b[0m\u001b[0;34m,\u001b[0m \u001b[0mtrain_acc\u001b[0m \u001b[0;34m=\u001b[0m \u001b[0mtrain_one_epoch\u001b[0m\u001b[0;34m(\u001b[0m\u001b[0mmodel\u001b[0m\u001b[0;34m,\u001b[0m \u001b[0mmask\u001b[0m\u001b[0;34m,\u001b[0m \u001b[0mtrain_data\u001b[0m\u001b[0;34m,\u001b[0m \u001b[0moptimizer\u001b[0m\u001b[0;34m,\u001b[0m \u001b[0mexpr_params\u001b[0m\u001b[0;34m,\u001b[0m \u001b[0mloss_func\u001b[0m\u001b[0;34m)\u001b[0m\u001b[0;34m\u001b[0m\u001b[0;34m\u001b[0m\u001b[0m\n\u001b[0m\u001b[1;32m    146\u001b[0m         \u001b[0mval_acc\u001b[0m \u001b[0;34m=\u001b[0m \u001b[0mtest\u001b[0m\u001b[0;34m(\u001b[0m\u001b[0mmodel\u001b[0m\u001b[0;34m,\u001b[0m \u001b[0mmask\u001b[0m\u001b[0;34m,\u001b[0m \u001b[0mval_data\u001b[0m\u001b[0;34m,\u001b[0m \u001b[0mexpr_params\u001b[0m\u001b[0;34m)\u001b[0m\u001b[0;34m\u001b[0m\u001b[0;34m\u001b[0m\u001b[0m\n\u001b[1;32m    147\u001b[0m         \u001b[0mwriter\u001b[0m\u001b[0;34m.\u001b[0m\u001b[0madd_scalars\u001b[0m\u001b[0;34m(\u001b[0m\u001b[0;34m\"train passes\"\u001b[0m\u001b[0;34m,\u001b[0m \u001b[0;34m{\u001b[0m\u001b[0mpass_name\u001b[0m\u001b[0;34m:\u001b[0m \u001b[0mtrain_acc\u001b[0m\u001b[0;34m}\u001b[0m\u001b[0;34m,\u001b[0m \u001b[0mepoch\u001b[0m\u001b[0;34m)\u001b[0m\u001b[0;34m\u001b[0m\u001b[0;34m\u001b[0m\u001b[0m\n",
      "\u001b[0;32m/workspace/notebooks/src/models/lth.py\u001b[0m in \u001b[0;36mtrain_one_epoch\u001b[0;34m(model, mask, train_data, optimizer, expr_params, loss_func)\u001b[0m\n\u001b[1;32m    180\u001b[0m \u001b[0;34m\u001b[0m\u001b[0m\n\u001b[1;32m    181\u001b[0m         \u001b[0my_pred\u001b[0m \u001b[0;34m=\u001b[0m \u001b[0my_pred\u001b[0m\u001b[0;34m.\u001b[0m\u001b[0mdata\u001b[0m\u001b[0;34m.\u001b[0m\u001b[0mmax\u001b[0m\u001b[0;34m(\u001b[0m\u001b[0;36m1\u001b[0m\u001b[0;34m,\u001b[0m \u001b[0mkeepdim\u001b[0m\u001b[0;34m=\u001b[0m\u001b[0;32mTrue\u001b[0m\u001b[0;34m)\u001b[0m\u001b[0;34m[\u001b[0m\u001b[0;36m1\u001b[0m\u001b[0;34m]\u001b[0m  \u001b[0;31m# get the index of the max log-probability\u001b[0m\u001b[0;34m\u001b[0m\u001b[0;34m\u001b[0m\u001b[0m\n\u001b[0;32m--> 182\u001b[0;31m         \u001b[0mcorrect\u001b[0m \u001b[0;34m+=\u001b[0m \u001b[0my_pred\u001b[0m\u001b[0;34m.\u001b[0m\u001b[0meq\u001b[0m\u001b[0;34m(\u001b[0m\u001b[0my_true\u001b[0m\u001b[0;34m.\u001b[0m\u001b[0mdata\u001b[0m\u001b[0;34m.\u001b[0m\u001b[0mview_as\u001b[0m\u001b[0;34m(\u001b[0m\u001b[0my_pred\u001b[0m\u001b[0;34m)\u001b[0m\u001b[0;34m)\u001b[0m\u001b[0;34m.\u001b[0m\u001b[0msum\u001b[0m\u001b[0;34m(\u001b[0m\u001b[0;34m)\u001b[0m\u001b[0;34m.\u001b[0m\u001b[0mitem\u001b[0m\u001b[0;34m(\u001b[0m\u001b[0;34m)\u001b[0m\u001b[0;34m\u001b[0m\u001b[0;34m\u001b[0m\u001b[0m\n\u001b[0m\u001b[1;32m    183\u001b[0m     \u001b[0maccuracy\u001b[0m \u001b[0;34m=\u001b[0m \u001b[0mcorrect\u001b[0m \u001b[0;34m/\u001b[0m \u001b[0mlen\u001b[0m\u001b[0;34m(\u001b[0m\u001b[0mtrain_data\u001b[0m\u001b[0;34m.\u001b[0m\u001b[0mdataset\u001b[0m\u001b[0;34m)\u001b[0m\u001b[0;34m\u001b[0m\u001b[0;34m\u001b[0m\u001b[0m\n\u001b[1;32m    184\u001b[0m     \u001b[0;32mreturn\u001b[0m \u001b[0mtrain_loss\u001b[0m\u001b[0;34m.\u001b[0m\u001b[0mitem\u001b[0m\u001b[0;34m(\u001b[0m\u001b[0;34m)\u001b[0m\u001b[0;34m,\u001b[0m \u001b[0maccuracy\u001b[0m\u001b[0;34m\u001b[0m\u001b[0;34m\u001b[0m\u001b[0m\n",
      "\u001b[0;31mKeyboardInterrupt\u001b[0m: "
     ]
    }
   ],
   "source": [
    "layer_definitions = [\n",
    "    (\"conv\", {\"out\": 64, \"bn\": True}), \n",
    "    (\"relu\", {}),\n",
    "    (\"conv\", {\"out\": 64, \"bn\": True}), \n",
    "    (\"relu\", {}),\n",
    "    (\"pool\", {}), \n",
    "\n",
    "    (\"conv\", {\"out\": 128, \"bn\": True}), \n",
    "    (\"relu\", {}),\n",
    "    (\"conv\", {\"out\": 128, \"bn\": True}), \n",
    "    (\"relu\", {}),\n",
    "    (\"pool\", {}),\n",
    "\n",
    "    (\"conv\", {\"out\": 256, \"bn\": True}), \n",
    "    (\"relu\", {}),\n",
    "    (\"conv\", {\"out\": 256, \"bn\": True}), \n",
    "    (\"relu\", {}),\n",
    "    (\"pool\", {}),\n",
    "\n",
    "    (\"flatten\", {}), \n",
    "\n",
    "    (\"linear\", {\"out\": 256}), \n",
    "    (\"relu\", {}),\n",
    "\n",
    "    (\"linear\", {\"out\": 256}), \n",
    "    (\"relu\", {}),\n",
    "\n",
    "    (\"linear\", {\"out\": 10})\n",
    "]\n",
    "\n",
    "expr_params = {\n",
    "    \"prune_strategy\": {\n",
    "        \"name\": \"global\",\n",
    "        \"rate\": .1,\n",
    "        \"iterations\": 35,\n",
    "    },\n",
    "    \"expr_id\": utils.new_expr_id(\"cifar10 vgg lth\"),\n",
    "    \"model_training_params\": {\n",
    "        \"optimizer\": (\"adam\", {\"lr\": 0.0001}),\n",
    "        \"loss_func\": \"cross_entropy\",\n",
    "        \"training_iterations\": 30,\n",
    "        \"early_stopping\": False,\n",
    "        \"model_name\": \"VGG\",\n",
    "        \"dataset_name\": \"cifar10\",\n",
    "        \"layer_definitions\": layer_definitions\n",
    "    }\n",
    "}\n",
    "\n",
    "print(f\"starting lth run {expr_params['expr_id']}\")\n",
    "mask = lth.run(dataset, expr_params)"
   ]
  },
  {
   "cell_type": "code",
   "execution_count": null,
   "metadata": {},
   "outputs": [],
   "source": [
    "plt.clf()\n",
    "accs = [log[\"test_acc\"] for log in logs]\n",
    "plt.plot(accs)\n",
    "plt.xlabel(\"prune_iter\")\n",
    "plt.ylabel(\"test_acc\")\n",
    "plt.title(\"acc over pruning iterations\")\n",
    "plt.show()"
   ]
  },
  {
   "cell_type": "code",
   "execution_count": null,
   "metadata": {},
   "outputs": [],
   "source": [
    "dataset = load_data.cfar10({\"batch_size\": 400})\n",
    "train_data, val_data, test_data = dataset\n",
    "print(test_data.dataset)\n",
    "datapoint = test_data.dataset[0]\n",
    "X, y = datapoint\n",
    "print(X.shape)"
   ]
  },
  {
   "cell_type": "code",
   "execution_count": 64,
   "metadata": {},
   "outputs": [
    {
     "name": "stdout",
     "output_type": "stream",
     "text": [
      "torch.Size([3, 32, 32])\n"
     ]
    }
   ],
   "source": []
  },
  {
   "cell_type": "code",
   "execution_count": 42,
   "metadata": {},
   "outputs": [
    {
     "data": {
      "image/png": "[encoded data removed]",
      "text/plain": [
       "<Figure size 432x288 with 1 Axes>"
      ]
     },
     "metadata": {
      "needs_background": "light"
     },
     "output_type": "display_data"
    }
   ],
   "source": [
    "plt.clf()\n",
    "for log in logs:\n",
    "    accs = log[\"val_accs\"]\n",
    "    pr = log[\"prune_rate\"]\n",
    "    plt.plot(accs, label=f\"{pr}: {max(accs)}\")\n",
    "plt.legend()\n",
    "plt.show()"
   ]
  },
  {
   "cell_type": "code",
   "execution_count": 36,
   "metadata": {},
   "outputs": [],
   "source": [
    "print(next(model.named_parameters())[1])\n",
    "# print(initial_weights[0][1])"
   ]
  },
  {
   "cell_type": "code",
   "execution_count": 28,
   "metadata": {},
   "outputs": [],
   "source": [
    "mask = lth.build_mask(model)"
   ]
  },
  {
   "cell_type": "code",
   "execution_count": 53,
   "metadata": {},
   "outputs": [
    {
     "name": "stdout",
     "output_type": "stream",
     "text": [
      "dict_keys(['features.0.weight', 'features.2.weight', 'classifier.0.weight', 'classifier.2.weight', 'classifier.4.weight'])\n",
      "[(tensor(191.), 576), (tensor(4948.), 36864), (tensor(146025.), 3211264), (tensor(13697.), 65536), (tensor(978.), 2560)]\n"
     ]
    }
   ],
   "source": [
    "lth.update_mask(model, mask, .95)\n",
    "lth.prune_model(model, mask)\n",
    "print(mask.keys())\n",
    "weights = [weight for name, weight in mask.items() if \"weight\" in name]\n",
    "print([(weight.sum().to(torch.float32), np.prod(weight.shape)) for weight in weights])"
   ]
  },
  {
   "cell_type": "code",
   "execution_count": 31,
   "metadata": {},
   "outputs": [
    {
     "name": "stdout",
     "output_type": "stream",
     "text": [
      "torch.Size([64, 1, 3, 3])\n",
      "torch.Size([64, 1, 3, 3])\n"
     ]
    }
   ],
   "source": [
    "mask = lth.ModelMask(model)\n",
    "feature0 = next(model.named_parameters())\n",
    "name, weight = feature0\n",
    "print(weight.shape)\n",
    "print(mask.bit_mask[name].shape)"
   ]
  },
  {
   "cell_type": "code",
   "execution_count": 41,
   "metadata": {},
   "outputs": [
    {
     "name": "stdout",
     "output_type": "stream",
     "text": [
      "torch.Size([64, 1, 3, 3])\n",
      "torch.Size([64, 64, 3, 3])\n",
      "torch.Size([256, 12544])\n",
      "torch.Size([256, 256])\n",
      "torch.Size([10, 256])\n",
      "<class 'torch.Tensor'>\n",
      "<class 'torch.Tensor'>\n",
      "<class 'torch.Tensor'>\n",
      "<class 'torch.Tensor'>\n",
      "<class 'torch.Tensor'>\n",
      "<class 'torch.Tensor'>\n",
      "<class 'torch.Tensor'>\n",
      "<class 'torch.Tensor'>\n",
      "<class 'torch.Tensor'>\n",
      "<class 'torch.Tensor'>\n"
     ]
    }
   ],
   "source": [
    "num_weights = 0\n",
    "for name, parameter in model.named_parameters():\n",
    "    if \"weight\" in name:\n",
    "        print(parameter.shape)\n",
    "        num_weights += np.prod(parameter.shape)\n",
    "\n",
    "all_weights = np.empty(shape=num_weights, dtype=np.float32)\n",
    "i = 0\n",
    "for name, parameter in model.named_parameters():\n",
    "    if \"weight\" in name:\n",
    "        num_weights = np.prod(parameter.shape)\n",
    "        all_weights[i:i+num_weights]parameter.data().flatten().numpy().astype(np.float32)\n",
    "        cur_index += num_weights\n",
    "        \n",
    "print()"
   ]
  },
  {
   "cell_type": "code",
   "execution_count": 17,
   "metadata": {},
   "outputs": [
    {
     "name": "stdout",
     "output_type": "stream",
     "text": [
      "{'weight0': tensor([0, 0, 0, 0, 0], device='cuda:0', dtype=torch.int32), 'weight1': tensor([ 0,  0,  0,  0,  0,  0,  0,  0, 28, 29, 30, 31, 32, 33, 34, 35, 36, 37,\n",
      "        38, 39], device='cuda:0', dtype=torch.int32)}\n",
      "torch.int32\n"
     ]
    }
   ],
   "source": [
    "prune_rate = .5\n",
    "\n",
    "named_parameters = [\n",
    "    (\"weight0\", torch.arange(5, dtype=torch.int32).to(device)),\n",
    "    (\"weight1\", torch.arange(20, 40, dtype=torch.int32).to(device))\n",
    "]\n",
    "\n",
    "weight_parameters = [parameter for name, parameter in named_parameters if \"weight\" in name]\n",
    "all_weights = [parameter.flatten().cpu().numpy().astype(np.float32) for parameter in weight_parameters]\n",
    "all_weights = np.concatenate(all_weights)\n",
    "\n",
    "num_weights = len(all_weights)\n",
    "k = int(num_weights*prune_rate)\n",
    "kth_weight = np.partition(all_weights, k)[k]\n",
    "\n",
    "mask = {}\n",
    "for name, parameter in named_parameters:\n",
    "    if \"weight\" in name:\n",
    "        mask[name] = parameter*(parameter > kth_weight)\n",
    "print(mask)\n",
    "print(named_parameters[0][1].dtype)"
   ]
  },
  {
   "cell_type": "code",
   "execution_count": 59,
   "metadata": {},
   "outputs": [
    {
     "data": {
      "text/plain": [
       "array([1., 2., 3., 1., 1., 2., 1., 3., 3.], dtype=float32)"
      ]
     },
     "execution_count": 59,
     "metadata": {},
     "output_type": "execute_result"
    }
   ],
   "source": [
    "np.concatenate((np.array([1, 2, 3], dtype=np.float32), np.array([[1, 1], [2,1], [3,3]], dtype=np.float32).flatten()))"
   ]
  },
  {
   "cell_type": "code",
   "execution_count": 82,
   "metadata": {},
   "outputs": [
    {
     "name": "stdout",
     "output_type": "stream",
     "text": [
      "tensor([True, True, True, True, True], device='cuda:0') torch.bool\n"
     ]
    }
   ],
   "source": [
    "a = torch.ones_like(named_parameters[0][1], dtype=torch.bool).to(device)\n",
    "print(a, a.dtype)"
   ]
  },
  {
   "cell_type": "code",
   "execution_count": 88,
   "metadata": {},
   "outputs": [
    {
     "data": {
      "text/plain": [
       "tensor([False, False, False, False, False], device='cuda:0')"
      ]
     },
     "execution_count": 88,
     "metadata": {},
     "output_type": "execute_result"
    }
   ],
   "source": [
    "a.set_(torch.from_numpy(np.array([False, False, False, False, False])).to(device))"
   ]
  },
  {
   "cell_type": "code",
   "execution_count": 96,
   "metadata": {},
   "outputs": [
    {
     "name": "stdout",
     "output_type": "stream",
     "text": [
      "tensor([-1, -4, -3, -5, -6, -9, -7])\n"
     ]
    },
    {
     "data": {
      "text/plain": [
       "tensor(-4)"
      ]
     },
     "execution_count": 96,
     "metadata": {},
     "output_type": "execute_result"
    }
   ],
   "source": [
    "tensor = torch.abs(torch.tensor([1, 4, 3, 5, 6, 9, 7]))*-1\n",
    "values, indices = torch.topk(tensor, 3, sorted=True)\n",
    "print(tensor)\n",
    "values[-1]"
   ]
  },
  {
   "cell_type": "code",
   "execution_count": 6,
   "metadata": {},
   "outputs": [],
   "source": [
    "bigtensor = torch.ones(size=(250000000,), device=device, dtype=torch.int32)"
   ]
  },
  {
   "cell_type": "code",
   "execution_count": 7,
   "metadata": {},
   "outputs": [],
   "source": [
    "mask = (bigtensor.cpu() > 4)"
   ]
  },
  {
   "cell_type": "code",
   "execution_count": 9,
   "metadata": {},
   "outputs": [],
   "source": [
    "bigtensor = bigtensor * mask.to(\"cuda\")"
   ]
  },
  {
   "cell_type": "code",
   "execution_count": 10,
   "metadata": {},
   "outputs": [],
   "source": [
    "bigtensor = torch.abs(bigtensor)\n",
    "# bigtensor = torch.zeros(size=(250000000,), device=device, dtype=torch.int32)"
   ]
  },
  {
   "cell_type": "code",
   "execution_count": null,
   "metadata": {},
   "outputs": [],
   "source": []
  },
  {
   "cell_type": "code",
   "execution_count": 4,
   "metadata": {},
   "outputs": [
    {
     "ename": "RuntimeError",
     "evalue": "Expected all tensors to be on the same device, but found at least two devices, cuda:0 and cpu!",
     "output_type": "error",
     "traceback": [
      "\u001b[0;31m---------------------------------------------------------------------------\u001b[0m",
      "\u001b[0;31mRuntimeError\u001b[0m                              Traceback (most recent call last)",
      "\u001b[0;32m<ipython-input-4-95c8edca742f>\u001b[0m in \u001b[0;36m<module>\u001b[0;34m\u001b[0m\n\u001b[0;32m----> 1\u001b[0;31m \u001b[0mbigtensor\u001b[0m \u001b[0;34m=\u001b[0m \u001b[0mbigtensor\u001b[0m \u001b[0;34m*\u001b[0m \u001b[0mmask\u001b[0m\u001b[0;34m\u001b[0m\u001b[0;34m\u001b[0m\u001b[0m\n\u001b[0m",
      "\u001b[0;31mRuntimeError\u001b[0m: Expected all tensors to be on the same device, but found at least two devices, cuda:0 and cpu!"
     ]
    }
   ],
   "source": []
  },
  {
   "cell_type": "code",
   "execution_count": 62,
   "metadata": {},
   "outputs": [],
   "source": [
    "a = torch.tensor([2., 3., 4.], requires_grad=True)\n",
    "b = torch.prod(a)\n",
    "d = b+2\n",
    "# a.retain_grad()\n",
    "b.retain_grad()\n",
    "# c.retain_grad()\n",
    "d.retain_grad()\n",
    "d.backward(torch.tensor([5]))\n",
    "\n",
    "# a.backward()"
   ]
  },
  {
   "cell_type": "code",
   "execution_count": 63,
   "metadata": {},
   "outputs": [
    {
     "name": "stdout",
     "output_type": "stream",
     "text": [
      "[tensor([60., 40., 30.]), tensor(5.)]\n"
     ]
    }
   ],
   "source": [
    "print([i.grad for i in [a, b]])"
   ]
  },
  {
   "cell_type": "code",
   "execution_count": null,
   "metadata": {},
   "outputs": [],
   "source": []
  }
 ],
 "metadata": {
  "kernelspec": {
   "display_name": "Python 3",
   "language": "python",
   "name": "python3"
  },
  "language_info": {
   "codemirror_mode": {
    "name": "ipython",
    "version": 3
   },
   "file_extension": ".py",
   "mimetype": "text/x-python",
   "name": "python",
   "nbconvert_exporter": "python",
   "pygments_lexer": "ipython3",
   "version": "3.7.7"
  }
 },
 "nbformat": 4,
 "nbformat_minor": 4
}
